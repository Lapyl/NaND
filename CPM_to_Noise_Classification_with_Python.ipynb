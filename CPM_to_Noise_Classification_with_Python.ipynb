{
 "cells": [
  {
   "cell_type": "markdown",
   "id": "70ef1cfc",
   "metadata": {},
   "source": [
    "# CPM to Noise Classification with Python"
   ]
  },
  {
   "cell_type": "markdown",
   "id": "93dba33e",
   "metadata": {},
   "source": [
    "This notebook uses Python and TesnorFlow for a mechanism to classify data into normal CPM data, Gaussian random data, and exponential random data.\n",
    "\n",
    "Much of the code is based on https://erichizdepski.wordpress.com/2019/05/23/using-machine-learning-to-categorize-radio-signals/"
   ]
  },
  {
   "cell_type": "markdown",
   "id": "46382c24",
   "metadata": {},
   "source": [
    "### Import necessary pacakages."
   ]
  },
  {
   "cell_type": "code",
   "execution_count": 1,
   "id": "83dcfa30",
   "metadata": {},
   "outputs": [
    {
     "name": "stderr",
     "output_type": "stream",
     "text": [
      "WARNING (theano.tensor.blas): Using NumPy C-API based implementation for BLAS functions.\n"
     ]
    }
   ],
   "source": [
    "%matplotlib inline\n",
    "import os\n",
    "import sys\n",
    "import urllib3\n",
    "import time\n",
    "import numpy as np\n",
    "import pandas as pd\n",
    "import random\n",
    "import matplotlib.pyplot as plt\n",
    "import seaborn as sns\n",
    "os.environ[\"KERAS_BACKEND\"] = \"theano\" # \"tensorflow\"\n",
    "os.environ[\"THEANO_FLAGS\"]  = \"device=cpu\"\n",
    "import theano as th\n",
    "import theano.tensor as T\n",
    "import keras\n",
    "import keras.models as models\n",
    "from keras.utils import np_utils\n",
    "from keras.layers.core import Reshape,Dense,Dropout,Activation,Flatten\n",
    "from keras.layers.recurrent import LSTM\n",
    "from keras.layers.noise import GaussianNoise\n",
    "from keras.layers.convolutional import Conv2D, MaxPooling2D, ZeroPadding2D\n",
    "from keras.regularizers import *\n",
    "from tensorflow.keras.optimizers import Adam"
   ]
  },
  {
   "cell_type": "markdown",
   "id": "a50b61b1",
   "metadata": {},
   "source": [
    "### Make datasets of CPM logs and corresponding labels."
   ]
  },
  {
   "cell_type": "code",
   "execution_count": 2,
   "id": "38b698e9",
   "metadata": {},
   "outputs": [],
   "source": [
    "def urltodf(xpat):\n",
    "    xpq = urllib3.PoolManager()\n",
    "    xpq = xpq.request('GET', xpat)\n",
    "    xpq = xpq.data.decode('utf-8')\n",
    "    xpq = xpq.split(',')\n",
    "    xpq = list(filter(None, xpq))\n",
    "    xpq = pd.DataFrame(xpq, columns=['Rec'])\n",
    "    xpq['Ind'] = xpq['Rec'].apply(lambda x: len(x))\n",
    "    xpq = xpq[xpq['Ind'] == 13]\n",
    "    xpq['Cpm'] = xpq['Rec'].apply(lambda x: int(x[11:]))\n",
    "    xpq = xpq.dropna()\n",
    "    xpq = xpq['Cpm'].tolist()\n",
    "    xxa = [[xpq[x:x+10],xpq[x+11:x+20],xpq[x+21:x+30],xpq[x+31:x+40],xpq[x+41:x+50],xpq[x+51:x+60],\n",
    "            xpq[x+61:x+70],xpq[x+71:x+80],xpq[x+81:x+90],xpq[x+91:x+100]] for x in range(0,len(xpq)-100,100)]\n",
    "    xya = [[1,0,0] for x in range(0,len(xpq),100)]\n",
    "    return xxa, xya"
   ]
  },
  {
   "cell_type": "code",
   "execution_count": 3,
   "id": "1a0e922e",
   "metadata": {},
   "outputs": [],
   "source": [
    "xa1, ya1 = urltodf(\"https://lipy.us/data/2022_2_GMC_31164B313435D3_Montclair_3407_w11772.txt\")\n",
    "xa2, ya2 = urltodf(\"https://lipy.us/data/2022_1_GMC_37074B313530AA_YorbaLinda_3389_w11780.txt\")"
   ]
  },
  {
   "cell_type": "code",
   "execution_count": 4,
   "id": "c5cd9876",
   "metadata": {},
   "outputs": [
    {
     "data": {
      "text/plain": [
       "[[[22, 22, 20, 20, 20, 22, 17, 17, 15, 15],\n",
       "  [14, 14, 14, 13, 14, 17, 18, 20, 20],\n",
       "  [20, 19, 20, 20, 20, 20, 19, 18, 18],\n",
       "  [17, 15, 17, 17, 18, 20, 22, 21, 19],\n",
       "  [17, 18, 20, 18, 19, 18, 17, 16, 14],\n",
       "  [14, 14, 13, 13, 13, 15, 14, 16, 17],\n",
       "  [17, 18, 18, 18, 18, 17, 16, 17, 16],\n",
       "  [13, 14, 16, 15, 17, 16, 20, 20, 21],\n",
       "  [20, 19, 21, 19, 18, 18, 18, 19, 19],\n",
       "  [17, 19, 19, 19, 19, 22, 23, 25, 22]],\n",
       " [[22, 21, 23, 22, 21, 21, 22, 22, 20, 19],\n",
       "  [19, 19, 18, 17, 19, 18, 19, 18, 15],\n",
       "  [12, 14, 13, 13, 12, 11, 10, 12, 10],\n",
       "  [12, 12, 12, 14, 16, 16, 17, 18, 16],\n",
       "  [15, 17, 15, 17, 19, 18, 18, 20, 19],\n",
       "  [19, 21, 21, 22, 23, 25, 23, 22, 21],\n",
       "  [20, 19, 18, 17, 18, 14, 10, 10, 11],\n",
       "  [14, 16, 18, 18, 19, 19, 19, 20, 18],\n",
       "  [23, 23, 22, 23, 21, 23, 20, 23, 25],\n",
       "  [29, 25, 23, 22, 21, 17, 17, 17, 20]]]"
      ]
     },
     "execution_count": 4,
     "metadata": {},
     "output_type": "execute_result"
    }
   ],
   "source": [
    "xa1[:2]"
   ]
  },
  {
   "cell_type": "code",
   "execution_count": 5,
   "id": "d73cb7e1",
   "metadata": {},
   "outputs": [
    {
     "data": {
      "text/plain": [
       "[[1, 0, 0], [1, 0, 0]]"
      ]
     },
     "execution_count": 5,
     "metadata": {},
     "output_type": "execute_result"
    }
   ],
   "source": [
    "ya1[:2]"
   ]
  },
  {
   "cell_type": "code",
   "execution_count": 6,
   "id": "dc8b5f5f",
   "metadata": {},
   "outputs": [
    {
     "data": {
      "text/plain": [
       "1016"
      ]
     },
     "execution_count": 6,
     "metadata": {},
     "output_type": "execute_result"
    }
   ],
   "source": [
    "len(ya1 + ya2)"
   ]
  },
  {
   "cell_type": "markdown",
   "id": "86ad33f8",
   "metadata": {},
   "source": [
    "### Make datasets of Gaussian and exponential random values and corresponding labels."
   ]
  },
  {
   "cell_type": "code",
   "execution_count": 7,
   "id": "ca14e75d",
   "metadata": {
    "scrolled": false
   },
   "outputs": [
    {
     "data": {
      "text/plain": [
       "[[[17, 15, 14, 15, 14, 16, 15, 15, 14, 16],\n",
       "  [15, 16, 16, 15, 16, 14, 16, 15, 14],\n",
       "  [16, 16, 14, 15, 15, 15, 15, 15, 15],\n",
       "  [15, 15, 15, 14, 17, 13, 14, 14, 15],\n",
       "  [15, 15, 13, 13, 15, 16, 14, 17, 13],\n",
       "  [16, 15, 15, 14, 14, 15, 14, 14, 15],\n",
       "  [15, 15, 15, 15, 13, 16, 14, 17, 14],\n",
       "  [15, 14, 14, 17, 13, 16, 13, 15, 14],\n",
       "  [15, 14, 14, 12, 16, 14, 14, 16, 14],\n",
       "  [15, 16, 14, 15, 13, 15, 14, 15, 14]],\n",
       " [[15, 15, 15, 17, 14, 14, 16, 15, 15, 14],\n",
       "  [14, 14, 15, 15, 15, 15, 15, 14, 13],\n",
       "  [14, 15, 15, 14, 15, 16, 13, 16, 15],\n",
       "  [14, 15, 16, 17, 14, 13, 14, 12, 15],\n",
       "  [14, 14, 14, 12, 13, 14, 14, 13, 15],\n",
       "  [15, 15, 14, 15, 15, 14, 14, 15, 14],\n",
       "  [15, 14, 16, 13, 14, 16, 15, 12, 14],\n",
       "  [16, 15, 15, 15, 15, 15, 14, 14, 14],\n",
       "  [14, 13, 13, 13, 14, 15, 13, 11, 16],\n",
       "  [13, 15, 14, 15, 14, 14, 16, 16, 14]]]"
      ]
     },
     "execution_count": 7,
     "metadata": {},
     "output_type": "execute_result"
    }
   ],
   "source": [
    "xa3 = [1 for i in range(1000)]\n",
    "xa4 = [1 for i in range(1000)]\n",
    "for i in range(1000):\n",
    "    z = np.random.normal(loc=15, scale=1, size=100).astype(int).tolist()\n",
    "    xa3[i] = [z[:10],z[11:20],z[21:30],z[31:40],z[41:50],z[51:60],z[61:70],z[71:80],z[81:90],z[91:100]]\n",
    "    z = np.random.exponential(scale=20, size=100).astype(int).tolist()\n",
    "    xa4[i] = [z[:10],z[11:20],z[21:30],z[31:40],z[41:50],z[51:60],z[61:70],z[71:80],z[81:90],z[91:100]]\n",
    "ya3 = [[0,1,0] for i in range(1000)]\n",
    "ya4 = [[0,0,1] for i in range(1000)]\n",
    "xa3[:2]"
   ]
  },
  {
   "cell_type": "markdown",
   "id": "edbe2e31",
   "metadata": {},
   "source": [
    "### Combine these datasets."
   ]
  },
  {
   "cell_type": "code",
   "execution_count": 8,
   "id": "91881def",
   "metadata": {
    "scrolled": false
   },
   "outputs": [
    {
     "data": {
      "text/plain": [
       "[[[17, 7, 4, 0, 6, 9, 2, 11, 13, 25],\n",
       "  [27, 19, 5, 18, 18, 20, 76, 1, 1],\n",
       "  [15, 13, 3, 1, 40, 2, 1, 14, 20],\n",
       "  [5, 2, 20, 24, 23, 9, 73, 1, 1],\n",
       "  [15, 5, 6, 15, 9, 28, 1, 11, 9],\n",
       "  [11, 36, 19, 27, 6, 2, 80, 1, 56],\n",
       "  [8, 1, 5, 15, 0, 28, 3, 27, 11],\n",
       "  [8, 8, 35, 1, 42, 70, 1, 3, 22],\n",
       "  [5, 1, 27, 16, 34, 28, 49, 11, 6],\n",
       "  [5, 22, 9, 33, 3, 6, 2, 51, 21]],\n",
       " [[0, 19, 1, 42, 2, 0, 1, 24, 4, 8],\n",
       "  [3, 1, 19, 8, 7, 16, 0, 21, 9],\n",
       "  [7, 0, 26, 22, 11, 17, 24, 6, 78],\n",
       "  [29, 15, 27, 13, 1, 14, 7, 35, 5],\n",
       "  [55, 57, 4, 16, 36, 4, 40, 32, 68],\n",
       "  [13, 1, 12, 32, 33, 2, 40, 8, 56],\n",
       "  [14, 3, 18, 0, 29, 7, 54, 1, 29],\n",
       "  [0, 16, 17, 21, 0, 6, 65, 5, 32],\n",
       "  [2, 26, 10, 30, 25, 4, 6, 28, 111],\n",
       "  [18, 15, 48, 4, 15, 64, 3, 2, 2]]]"
      ]
     },
     "execution_count": 8,
     "metadata": {},
     "output_type": "execute_result"
    }
   ],
   "source": [
    "xa = xa1 + xa2 + xa3 + xa4\n",
    "xa[-2:]"
   ]
  },
  {
   "cell_type": "code",
   "execution_count": 9,
   "id": "97247616",
   "metadata": {},
   "outputs": [
    {
     "data": {
      "text/plain": [
       "[[0, 0, 1], [0, 0, 1], [0, 0, 1], [0, 0, 1], [0, 0, 1]]"
      ]
     },
     "execution_count": 9,
     "metadata": {},
     "output_type": "execute_result"
    }
   ],
   "source": [
    "ya = ya1 + ya2 + ya3 + ya4\n",
    "ya[-5:]"
   ]
  },
  {
   "cell_type": "markdown",
   "id": "86682d31",
   "metadata": {},
   "source": [
    "### Partition these datasets into training and validation datasets."
   ]
  },
  {
   "cell_type": "code",
   "execution_count": 10,
   "id": "571d7486",
   "metadata": {},
   "outputs": [],
   "source": [
    "s0 = len(xa)\n",
    "s1 = np.random.choice(range(s0), int(s0*4/5), replace=False)\n",
    "s2 = list(set(range(s0)) - set(s1))\n",
    "X_train = tf.ragged.constant([xa[i] for i in s1]).to_tensor()\n",
    "X_test = tf.ragged.constant([xa[i] for i in s2]).to_tensor()\n",
    "Y_train = tf.ragged.constant([ya[i] for i in s1]).to_tensor()\n",
    "Y_test = tf.ragged.constant([ya[i] for i in s2]).to_tensor()"
   ]
  },
  {
   "cell_type": "code",
   "execution_count": 11,
   "id": "62a1319f",
   "metadata": {},
   "outputs": [
    {
     "data": {
      "text/plain": [
       "<tf.Tensor: shape=(2, 10, 10), dtype=int32, numpy=\n",
       "array([[[15, 13, 14, 14, 15, 13, 13, 16, 13, 15],\n",
       "        [17, 15, 16, 15, 16, 14, 15, 14, 14,  0],\n",
       "        [14, 13, 13, 15, 14, 13, 14, 15, 14,  0],\n",
       "        [15, 15, 15, 12, 15, 13, 15, 14, 14,  0],\n",
       "        [15, 13, 14, 16, 13, 13, 14, 16, 14,  0],\n",
       "        [15, 15, 13, 14, 14, 16, 14, 13, 15,  0],\n",
       "        [15, 13, 15, 14, 16, 15, 14, 15, 16,  0],\n",
       "        [13, 15, 14, 14, 15, 15, 14, 15, 15,  0],\n",
       "        [14, 15, 15, 16, 15, 15, 16, 14, 15,  0],\n",
       "        [13, 14, 13, 16, 14, 16, 14, 16, 16,  0]],\n",
       "\n",
       "       [[14, 15, 17, 15, 14, 16, 14, 13, 13, 16],\n",
       "        [14, 16, 15, 14, 15, 15, 14, 15, 13,  0],\n",
       "        [15, 17, 13, 15, 16, 15, 16, 14, 14,  0],\n",
       "        [14, 13, 15, 14, 15, 16, 14, 13, 15,  0],\n",
       "        [13, 14, 13, 16, 13, 15, 16, 15, 14,  0],\n",
       "        [16, 15, 14, 17, 14, 14, 14, 16, 16,  0],\n",
       "        [15, 14, 14, 15, 16, 16, 15, 15, 15,  0],\n",
       "        [15, 15, 14, 16, 13, 14, 15, 15, 14,  0],\n",
       "        [17, 14, 14, 15, 15, 16, 16, 15, 16,  0],\n",
       "        [13, 14, 15, 14, 16, 15, 14, 14, 16,  0]]])>"
      ]
     },
     "execution_count": 11,
     "metadata": {},
     "output_type": "execute_result"
    }
   ],
   "source": [
    "X_train[:2]"
   ]
  },
  {
   "cell_type": "markdown",
   "id": "cf19e57a",
   "metadata": {},
   "source": [
    "### Build a neural network model."
   ]
  },
  {
   "cell_type": "code",
   "execution_count": 12,
   "id": "51c5452e",
   "metadata": {},
   "outputs": [],
   "source": [
    "classes = [\"Cpm\", \"Gaussian\", \"Exponential\"]\n",
    "in_shp = [10, 10]\n",
    "dr = 0.6 # Dropout percentage "
   ]
  },
  {
   "cell_type": "code",
   "execution_count": 13,
   "id": "000fd05b",
   "metadata": {
    "scrolled": true
   },
   "outputs": [
    {
     "name": "stdout",
     "output_type": "stream",
     "text": [
      "Model: \"sequential\"\n",
      "_________________________________________________________________\n",
      " Layer (type)                Output Shape              Param #   \n",
      "=================================================================\n",
      " reshape (Reshape)           (None, 1, 10, 10)         0         \n",
      "                                                                 \n",
      " zero_padding2d (ZeroPadding  (None, 1, 14, 10)        0         \n",
      " 2D)                                                             \n",
      "                                                                 \n",
      " conv2d (Conv2D)             (None, 1, 12, 256)        7936      \n",
      "                                                                 \n",
      " dropout (Dropout)           (None, 1, 12, 256)        0         \n",
      "                                                                 \n",
      " zero_padding2d_1 (ZeroPaddi  (None, 1, 16, 256)       0         \n",
      " ng2D)                                                           \n",
      "                                                                 \n",
      " conv2d_1 (Conv2D)           (None, 1, 14, 80)         61520     \n",
      "                                                                 \n",
      " dropout_1 (Dropout)         (None, 1, 14, 80)         0         \n",
      "                                                                 \n",
      " flatten (Flatten)           (None, 1120)              0         \n",
      "                                                                 \n",
      " dense (Dense)               (None, 256)               286976    \n",
      "                                                                 \n",
      " dropout_2 (Dropout)         (None, 256)               0         \n",
      "                                                                 \n",
      " dense_1 (Dense)             (None, 3)                 771       \n",
      "                                                                 \n",
      " activation (Activation)     (None, 3)                 0         \n",
      "                                                                 \n",
      " reshape_1 (Reshape)         (None, 3)                 0         \n",
      "                                                                 \n",
      "=================================================================\n",
      "Total params: 357,203\n",
      "Trainable params: 357,203\n",
      "Non-trainable params: 0\n",
      "_________________________________________________________________\n"
     ]
    }
   ],
   "source": [
    "model = models.Sequential()\n",
    "model.add(Reshape([1]+in_shp, input_shape=in_shp))\n",
    "model.add(ZeroPadding2D((0, 2)))\n",
    "model.add(Conv2D(256, (1, 3), padding='valid', input_shape=(1, 2, 128), activation=\"relu\",\n",
    "                 kernel_initializer='glorot_uniform'))\n",
    "model.add(Dropout(dr))\n",
    "model.add(ZeroPadding2D((0, 2)))\n",
    "model.add(Conv2D(80, (1, 3), strides=1, padding=\"valid\", input_shape=(1, 2, 128), activation=\"relu\",\n",
    "                 kernel_initializer='glorot_uniform'))\n",
    "model.add(Dropout(dr))\n",
    "model.add(Flatten())\n",
    "model.add(Dense(256, activation='relu', kernel_initializer='he_normal'))\n",
    "model.add(Dropout(dr))\n",
    "model.add(Dense( len(classes), kernel_initializer='he_normal'))\n",
    "model.add(Activation('softmax'))\n",
    "model.add(Reshape([len(classes)]))\n",
    "model.compile(loss='categorical_crossentropy', optimizer='adam')\n",
    "model.build()\n",
    "model.summary()"
   ]
  },
  {
   "cell_type": "markdown",
   "id": "bdbded36",
   "metadata": {},
   "source": [
    "### Train this model using training datasets."
   ]
  },
  {
   "cell_type": "code",
   "execution_count": 14,
   "id": "37e3a5d7",
   "metadata": {},
   "outputs": [],
   "source": [
    "nb_epoch = 20\n",
    "batch_size = 40\n",
    "filepath = 'convmodrecnets_CNN2_0.5.wts_A.h5'"
   ]
  },
  {
   "cell_type": "code",
   "execution_count": 15,
   "id": "588dadb7",
   "metadata": {
    "scrolled": true
   },
   "outputs": [
    {
     "name": "stdout",
     "output_type": "stream",
     "text": [
      "Epoch 1/20\n",
      "61/61 - 3s - loss: 3.4013 - val_loss: 0.4807 - 3s/epoch - 56ms/step\n",
      "Epoch 2/20\n",
      "61/61 - 1s - loss: 0.6716 - val_loss: 0.4719 - 706ms/epoch - 12ms/step\n",
      "Epoch 3/20\n",
      "61/61 - 1s - loss: 0.5545 - val_loss: 0.4697 - 731ms/epoch - 12ms/step\n",
      "Epoch 4/20\n",
      "61/61 - 1s - loss: 0.5063 - val_loss: 0.4613 - 737ms/epoch - 12ms/step\n",
      "Epoch 5/20\n",
      "61/61 - 1s - loss: 0.4833 - val_loss: 0.4621 - 615ms/epoch - 10ms/step\n",
      "Epoch 6/20\n",
      "61/61 - 1s - loss: 0.4325 - val_loss: 0.4207 - 723ms/epoch - 12ms/step\n",
      "Epoch 7/20\n",
      "61/61 - 1s - loss: 0.3941 - val_loss: 0.4578 - 583ms/epoch - 10ms/step\n",
      "Epoch 8/20\n",
      "61/61 - 1s - loss: 0.3017 - val_loss: 0.0875 - 702ms/epoch - 12ms/step\n",
      "Epoch 9/20\n",
      "61/61 - 1s - loss: 0.2476 - val_loss: 0.1820 - 591ms/epoch - 10ms/step\n",
      "Epoch 10/20\n",
      "61/61 - 1s - loss: 0.2125 - val_loss: 0.1553 - 577ms/epoch - 9ms/step\n",
      "Epoch 11/20\n",
      "61/61 - 1s - loss: 0.1548 - val_loss: 0.1366 - 600ms/epoch - 10ms/step\n",
      "Epoch 12/20\n",
      "61/61 - 1s - loss: 0.1559 - val_loss: 0.0410 - 707ms/epoch - 12ms/step\n",
      "Epoch 13/20\n",
      "61/61 - 1s - loss: 0.1685 - val_loss: 0.0650 - 582ms/epoch - 10ms/step\n",
      "Epoch 14/20\n",
      "61/61 - 1s - loss: 0.1518 - val_loss: 0.0338 - 687ms/epoch - 11ms/step\n",
      "Epoch 15/20\n",
      "61/61 - 1s - loss: 0.1286 - val_loss: 0.0308 - 744ms/epoch - 12ms/step\n",
      "Epoch 16/20\n",
      "61/61 - 1s - loss: 0.0895 - val_loss: 0.0108 - 756ms/epoch - 12ms/step\n",
      "Epoch 17/20\n",
      "61/61 - 1s - loss: 0.0909 - val_loss: 0.0218 - 624ms/epoch - 10ms/step\n",
      "Epoch 18/20\n",
      "61/61 - 1s - loss: 0.0987 - val_loss: 0.0399 - 631ms/epoch - 10ms/step\n",
      "Epoch 19/20\n",
      "61/61 - 1s - loss: 0.1365 - val_loss: 0.0567 - 639ms/epoch - 10ms/step\n",
      "Epoch 20/20\n",
      "61/61 - 1s - loss: 0.0915 - val_loss: 0.0110 - 613ms/epoch - 10ms/step\n"
     ]
    }
   ],
   "source": [
    "history = model.fit(X_train, Y_train,\n",
    "    batch_size=batch_size, epochs=nb_epoch, verbose=2,\n",
    "    validation_data=(X_test, Y_test),\n",
    "    callbacks = [keras.callbacks.ModelCheckpoint(filepath, monitor='val_loss', verbose=0, save_best_only=True, mode='auto'),\n",
    "        keras.callbacks.EarlyStopping(monitor='val_loss', patience=5, verbose=0, mode='auto')])\n",
    "model.load_weights(filepath)"
   ]
  },
  {
   "cell_type": "markdown",
   "id": "89480c45",
   "metadata": {},
   "source": [
    "### Evaluate and plot the model's performance."
   ]
  },
  {
   "cell_type": "code",
   "execution_count": 16,
   "id": "196a62fe",
   "metadata": {},
   "outputs": [
    {
     "name": "stdout",
     "output_type": "stream",
     "text": [
      "0.010841935873031616\n"
     ]
    }
   ],
   "source": [
    "score = model.evaluate(X_test, Y_test, verbose=0, batch_size=batch_size)\n",
    "print (score)"
   ]
  },
  {
   "cell_type": "code",
   "execution_count": 17,
   "id": "70549493",
   "metadata": {},
   "outputs": [
    {
     "data": {
      "text/plain": [
       "<matplotlib.legend.Legend at 0x18dce01ac10>"
      ]
     },
     "execution_count": 17,
     "metadata": {},
     "output_type": "execute_result"
    },
    {
     "data": {
      "image/png": "[encoded data removed]",
      "text/plain": [
       "<Figure size 432x288 with 1 Axes>"
      ]
     },
     "metadata": {
      "needs_background": "light"
     },
     "output_type": "display_data"
    }
   ],
   "source": [
    "plt.figure()\n",
    "plt.title('Training performance')\n",
    "plt.plot(history.epoch, history.history['loss'], label='train loss+error')\n",
    "plt.plot(history.epoch, history.history['val_loss'], label='val_error')\n",
    "plt.legend()"
   ]
  },
  {
   "cell_type": "markdown",
   "id": "b2b40880",
   "metadata": {},
   "source": [
    "### Plot a confusion matrix of the model's performance."
   ]
  },
  {
   "cell_type": "code",
   "execution_count": 18,
   "id": "a7d1efb1",
   "metadata": {},
   "outputs": [],
   "source": [
    "def plot_confusion_matrix(cm, title='Confusion matrix', cmap=plt.cm.Reds, labels=[]):\n",
    "    my_dpi=96\n",
    "    plt.figure(figsize=(800/my_dpi, 800/my_dpi), dpi=my_dpi)\n",
    "    plt.imshow(cm, interpolation='nearest', cmap=cmap)\n",
    "    plt.title(title)\n",
    "    plt.colorbar()\n",
    "    tick_marks = np.arange(len(labels))\n",
    "    plt.xticks(tick_marks, labels, rotation=45)\n",
    "    plt.yticks(tick_marks, labels)\n",
    "    plt.tight_layout()\n",
    "    plt.ylabel('True label')\n",
    "    plt.xlabel('Predicted label')"
   ]
  },
  {
   "cell_type": "code",
   "execution_count": 19,
   "id": "c18177c0",
   "metadata": {},
   "outputs": [
    {
     "name": "stdout",
     "output_type": "stream",
     "text": [
      "[[0.99502488 0.00497512 0.        ]\n",
      " [0.         1.         0.        ]\n",
      " [0.         0.         1.        ]]\n",
      "['Cpm', 'Gaussian', 'Exponential']\n"
     ]
    },
    {
     "data": {
      "image/png": "[encoded data removed]",
      "text/plain": [
       "<Figure size 800x800 with 2 Axes>"
      ]
     },
     "metadata": {
      "needs_background": "light"
     },
     "output_type": "display_data"
    }
   ],
   "source": [
    "test_Y_hat = model.predict(X_test, batch_size=batch_size)\n",
    "conf = np.zeros([len(classes),len(classes)])\n",
    "confnorm = np.zeros([len(classes),len(classes)])\n",
    "for i in range(0,X_test.shape[0]):\n",
    "    j = list(Y_test[i,:]).index(1)\n",
    "    k = int(np.argmax(test_Y_hat[i,:]))\n",
    "    conf[j,k] = conf[j,k] + 1\n",
    "for i in range(0,len(classes)):\n",
    "    confnorm[i,:] = conf[i,:] / np.sum(conf[i,:])\n",
    "print (confnorm)\n",
    "print (classes)\n",
    "plot_confusion_matrix(confnorm, labels=classes)"
   ]
  },
  {
   "cell_type": "markdown",
   "id": "ff6d72c0",
   "metadata": {},
   "source": [
    "### Compute the model's accuracy."
   ]
  },
  {
   "cell_type": "code",
   "execution_count": 20,
   "id": "4352a7bc",
   "metadata": {},
   "outputs": [
    {
     "name": "stdout",
     "output_type": "stream",
     "text": [
      "0.9983416252072969\n"
     ]
    }
   ],
   "source": [
    "cor = np.sum(np.diag(conf))\n",
    "ncor = np.sum(conf) - cor\n",
    "acc = 1.0*cor/(cor+ncor)\n",
    "print (acc)"
   ]
  },
  {
   "cell_type": "markdown",
   "id": "b928c461",
   "metadata": {},
   "source": [
    "### Conclusions"
   ]
  },
  {
   "cell_type": "markdown",
   "id": "5ee6b562",
   "metadata": {},
   "source": [
    "The TensorFlow predictive model trained here has an accuracy of about 99% for classifying data into normal CPM data, Gaussian random data, and exponential random data."
   ]
  },
  {
   "cell_type": "code",
   "execution_count": null,
   "id": "44c54868",
   "metadata": {},
   "outputs": [],
   "source": []
  }
 ],
 "metadata": {
  "kernelspec": {
   "display_name": "Python 3 (ipykernel)",
   "language": "python",
   "name": "python3"
  },
  "language_info": {
   "codemirror_mode": {
    "name": "ipython",
    "version": 3
   },
   "file_extension": ".py",
   "mimetype": "text/x-python",
   "name": "python",
   "nbconvert_exporter": "python",
   "pygments_lexer": "ipython3",
   "version": "3.9.7"
  }
 },
 "nbformat": 4,
 "nbformat_minor": 5
}
